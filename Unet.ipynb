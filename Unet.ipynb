{
 "cells": [
  {
   "cell_type": "code",
   "execution_count": 1,
   "metadata": {},
   "outputs": [],
   "source": [
    "from tensorflow.keras import layers\n",
    "from tensorflow.keras.models import Model, load_model\n",
    "from keras import backend as K\n",
    "import tensorflow as tf\n",
    "import numpy as np\n",
    "import matplotlib.pyplot as plt\n",
    "import cv2\n",
    "import random"
   ]
  },
  {
   "cell_type": "code",
   "execution_count": 2,
   "metadata": {},
   "outputs": [],
   "source": [
    "(x_train, y_train), (x_test, y_test) = tf.keras.datasets.mnist.load_data()"
   ]
  },
  {
   "cell_type": "code",
   "execution_count": 3,
   "metadata": {},
   "outputs": [],
   "source": [
    "# Выводит изображение на экран\n",
    "def print_image(image):\n",
    "    plt.figure(figsize=(10,10))\n",
    "    plt.axis('off')\n",
    "    plt.imshow(image)\n",
    "    plt.show()"
   ]
  },
  {
   "cell_type": "code",
   "execution_count": 4,
   "metadata": {},
   "outputs": [],
   "source": [
    "# Производит изменение размера изображения в случайной пропорции\n",
    "# Возвращает измененное изображение\n",
    "def resize_image(image):\n",
    "    # Получаем случаную пропорцию\n",
    "    ratio = 1.4 + np.random.uniform(-0.6, 0.6)\n",
    "    # Вычисляем новые размеры изображения\n",
    "    dsize = (int(image.shape[0] * ratio), int(image.shape[1] * ratio))\n",
    "    # Измененное по размеру изображение\n",
    "    new_image = cv2.resize(image, dsize)\n",
    "    return new_image"
   ]
  },
  {
   "cell_type": "code",
   "execution_count": 5,
   "metadata": {},
   "outputs": [],
   "source": [
    "# Производит вращение изображения image на случайный угол\n",
    "# Возвращает повернутое изображение\n",
    "def rotate_image(image):\n",
    "    # Случайный угол из нормального распределения\n",
    "    angle = np.random.normal(0, 20)\n",
    "    image_center = tuple(np.array(image.shape[1::-1]) / 2)\n",
    "    rot_mat = cv2.getRotationMatrix2D(image_center, angle, 1.0)\n",
    "    result = cv2.warpAffine(image, rot_mat, image.shape[1::-1], flags=cv2.INTER_LINEAR)\n",
    "    return result"
   ]
  },
  {
   "cell_type": "code",
   "execution_count": 6,
   "metadata": {},
   "outputs": [],
   "source": [
    "# Создает холст из изображений цифр\n",
    "def generate_image(collection_images, collection_gt, resize=True, rotate=True):\n",
    "    placed = np.zeros([256,256],dtype=np.float32)\n",
    "    placed_gt = np.zeros([256,256, 10],dtype=np.float32)\n",
    "    # Генерируются неповторяющиеся номера ячеек для каждого изображения из collection_images\n",
    "    cells = random.sample(range(0, 15), len(collection_images))\n",
    "    for image, gt, cell in zip(collection_images, collection_gt, cells):\n",
    "        # Вычисляем номер строки, в которой будет размещено данное изображение\n",
    "        number_row = cell // 4\n",
    "        # Вычисляем номер столбца, в котором будет размещено данное изображение\n",
    "        number_column = cell % 4\n",
    "        # Вычисляем координаты, по которым будет размещено данное изображение\n",
    "        # Исходя из того, что ширина и высота ячейки составляет 64 (сетка 4x4 для картинки 256x256)\n",
    "        pos = np.array([64 * number_row, 64 * number_column])\n",
    "        # Изменяем размер изображения\n",
    "        if resize:\n",
    "            image = resize_image(image)\n",
    "        # Вращаем изображение\n",
    "        if rotate:\n",
    "            image = rotate_image(image)\n",
    "        image_gt = image.copy()\n",
    "        image_gt[image_gt < 20] = 0\n",
    "        image_gt[image_gt >= 20] = 1\n",
    "        # Вставка изображения\n",
    "        placed[pos[0]:pos[0]+image.shape[0],pos[1]:pos[1]+image.shape[1]] = np.max([placed[pos[0]:pos[0]+image.shape[0],pos[1]:pos[1]+image.shape[1]],image],axis=0)\n",
    "        placed_gt[pos[0]:pos[0]+image_gt.shape[0],pos[1]:pos[1]+image_gt.shape[1], gt] = np.max([placed_gt[pos[0]:pos[0]+image_gt.shape[0],pos[1]:pos[1]+image_gt.shape[1], gt],image_gt],axis=0)\n",
    "    return placed, placed_gt"
   ]
  },
  {
   "cell_type": "code",
   "execution_count": 7,
   "metadata": {},
   "outputs": [],
   "source": [
    "# Генерируем датасет размера size_dataset с картинками\n",
    "def generate_dataset(batch_size):\n",
    "    len_train = len(x_train) \n",
    "    while True:\n",
    "        result_image = []\n",
    "        result_image_gt = []\n",
    "        for _ in range(batch_size):\n",
    "            # Количество цифр, которые будут распологаться на данной картинке\n",
    "            # Выбирается случайным образом из диапазона [4, 14]\n",
    "            size_collection = random.randint(4, 14)\n",
    "            # Номера картинок, которые попадут на текущее изображение\n",
    "            index = np.random.choice(np.arange(0, len_train), size=size_collection, replace=True)\n",
    "            # Будет ли использоваться resize для картинок\n",
    "            resize = np.random.choice([True, False])\n",
    "            # Будет ли использоваться rotate для картинок\n",
    "            rotate = np.random.choice([True, False])\n",
    "            # Цифры и gt, которые попадут на данную картинку\n",
    "            collection_images = x_train[index]\n",
    "            collection_gt = y_train[index]\n",
    "            image, image_gt = generate_image(collection_images, collection_gt, resize, rotate)\n",
    "            result_image.append(image)\n",
    "            result_image_gt.append(image_gt)\n",
    "        result_image = np.array(result_image)\n",
    "        result_image_gt = np.array(result_image_gt)\n",
    "        yield np.expand_dims(result_image, -1), result_image_gt"
   ]
  },
  {
   "cell_type": "code",
   "execution_count": 8,
   "metadata": {},
   "outputs": [],
   "source": [
    "def dice_coef(y_true, y_pred):\n",
    "    y_true_f = K.flatten(y_true)\n",
    "    y_pred_f = K.flatten(y_pred)\n",
    "    intersection = K.sum(y_true_f * y_pred_f)\n",
    "    return (2. * intersection + 1.0) / (K.sum(y_true_f) + K.sum(y_pred_f) + 1.0)\n",
    "\n",
    "def dice_coef_loss(y_true, y_pred):\n",
    "    return 1.0-dice_coef(y_true, y_pred)"
   ]
  },
  {
   "cell_type": "code",
   "execution_count": 9,
   "metadata": {},
   "outputs": [],
   "source": [
    "# Unet модель\n",
    "def create_unet():\n",
    "    inputs = layers.Input(shape=(256, 256, 1))\n",
    "    conv1 = layers.Conv2D(32, (3, 3), activation='relu', padding='same')(inputs)\n",
    "    conv1 = layers.Conv2D(32, (3, 3), activation='relu', padding='same')(conv1)\n",
    "    pool1 = layers.MaxPooling2D(pool_size=(2, 2))(conv1)\n",
    "\n",
    "    conv2 = layers.Conv2D(64, (3, 3), activation='relu', padding='same')(pool1)\n",
    "    conv2 = layers.Conv2D(64, (3, 3), activation='relu', padding='same')(conv2)\n",
    "    pool2 = layers.MaxPooling2D(pool_size=(2, 2))(conv2)\n",
    "\n",
    "    conv3 = layers.Conv2D(128, (3, 3), activation='relu', padding='same')(pool2)\n",
    "    conv3 = layers.Conv2D(128, (3, 3), activation='relu', padding='same')(conv3)\n",
    "    pool3 = layers.MaxPooling2D(pool_size=(2, 2))(conv3)\n",
    "\n",
    "    conv4 = layers.Conv2D(256, (3, 3), activation='relu', padding='same')(pool3)\n",
    "    conv4 = layers.Conv2D(256, (3, 3), activation='relu', padding='same')(conv4)\n",
    "    pool4 = layers.MaxPooling2D(pool_size=(2, 2))(conv4)\n",
    "\n",
    "    conv5 = layers.Conv2D(512, (3, 3), activation='relu', padding='same')(pool4)\n",
    "    conv5 = layers.Conv2D(512, (3, 3), activation='relu', padding='same')(conv5)\n",
    "\n",
    "    up6 = layers.concatenate([layers.Conv2DTranspose(256, (2, 2), strides=(2, 2), padding='same')(conv5), conv4], axis=3)\n",
    "    conv6 = layers.Conv2D(256, (3, 3), activation='relu', padding='same')(up6)\n",
    "    conv6 = layers.Conv2D(256, (3, 3), activation='relu', padding='same')(conv6)\n",
    "\n",
    "    up7 = layers.concatenate([layers.Conv2DTranspose(128, (2, 2), strides=(2, 2), padding='same')(conv6), conv3], axis=3)\n",
    "    conv7 = layers.Conv2D(128, (3, 3), activation='relu', padding='same')(up7)\n",
    "    conv7 = layers.Conv2D(128, (3, 3), activation='relu', padding='same')(conv7)\n",
    "\n",
    "    up8 = layers.concatenate([layers.Conv2DTranspose(64, (2, 2), strides=(2, 2), padding='same')(conv7), conv2], axis=3)\n",
    "    conv8 = layers.Conv2D(64, (3, 3), activation='relu', padding='same')(up8)\n",
    "    conv8 = layers.Conv2D(64, (3, 3), activation='relu', padding='same')(conv8)\n",
    "\n",
    "    up9 = layers.concatenate([layers.Conv2DTranspose(32, (2, 2), strides=(2, 2), padding='same')(conv8), conv1], axis=3)\n",
    "    conv9 = layers.Conv2D(32, (3, 3), activation='relu', padding='same')(up9)\n",
    "    conv9 = layers.Conv2D(32, (3, 3), activation='relu', padding='same')(conv9)\n",
    "\n",
    "    output = layers.Conv2D(10, (1, 1), activation='sigmoid')(conv9)\n",
    "    \n",
    "    model = Model(inputs, output)\n",
    "    model.compile(optimizer='Adam', loss=dice_coef_loss, metrics=[dice_coef])\n",
    "\n",
    "    return model"
   ]
  },
  {
   "cell_type": "raw",
   "metadata": {},
   "source": [
    "# model = load_model(filepath='network_model', custom_objects={'dice_coef_loss' : dice_coef_loss, 'dice_coef' : dice_coef})\n",
    "# model.compile(optimizer='Adam', loss=dice_coef_loss, metrics=[dice_coef])"
   ]
  },
  {
   "cell_type": "code",
   "execution_count": 10,
   "metadata": {},
   "outputs": [],
   "source": [
    "model = create_unet()"
   ]
  },
  {
   "cell_type": "code",
   "execution_count": 11,
   "metadata": {},
   "outputs": [
    {
     "name": "stdout",
     "output_type": "stream",
     "text": [
      "Epoch 1/150\n",
      "4/4 [==============================] - 52s 13s/step - loss: 0.9887 - dice_coef: 0.0113\n",
      "Epoch 2/150\n",
      "4/4 [==============================] - 53s 13s/step - loss: 0.9877 - dice_coef: 0.0123\n",
      "Epoch 3/150\n",
      "4/4 [==============================] - 51s 13s/step - loss: 0.9869 - dice_coef: 0.0131\n",
      "Epoch 4/150\n",
      "4/4 [==============================] - 55s 14s/step - loss: 0.9868 - dice_coef: 0.0132\n",
      "Epoch 5/150\n",
      "4/4 [==============================] - 62s 15s/step - loss: 0.9844 - dice_coef: 0.0156\n",
      "Epoch 6/150\n",
      "4/4 [==============================] - 52s 13s/step - loss: 0.9736 - dice_coef: 0.0264\n",
      "Epoch 7/150\n",
      "4/4 [==============================] - 56s 14s/step - loss: 0.9699 - dice_coef: 0.0301\n",
      "Epoch 8/150\n",
      "4/4 [==============================] - 52s 13s/step - loss: 0.9563 - dice_coef: 0.0437\n",
      "Epoch 9/150\n",
      "4/4 [==============================] - 51s 13s/step - loss: 0.9570 - dice_coef: 0.0430\n",
      "Epoch 10/150\n",
      "4/4 [==============================] - 53s 14s/step - loss: 0.9593 - dice_coef: 0.0407\n",
      "Epoch 11/150\n",
      "4/4 [==============================] - 58s 14s/step - loss: 0.8862 - dice_coef: 0.1138\n",
      "Epoch 12/150\n",
      "4/4 [==============================] - 55s 14s/step - loss: 0.8355 - dice_coef: 0.1645\n",
      "Epoch 13/150\n",
      "4/4 [==============================] - 60s 15s/step - loss: 0.8277 - dice_coef: 0.1723\n",
      "Epoch 14/150\n",
      "4/4 [==============================] - 62s 15s/step - loss: 0.8224 - dice_coef: 0.1776\n",
      "Epoch 15/150\n",
      "4/4 [==============================] - 52s 13s/step - loss: 0.8272 - dice_coef: 0.1728\n",
      "Epoch 16/150\n",
      "4/4 [==============================] - 52s 13s/step - loss: 0.8235 - dice_coef: 0.1765\n",
      "Epoch 17/150\n",
      "4/4 [==============================] - 54s 13s/step - loss: 0.8218 - dice_coef: 0.1782\n",
      "Epoch 18/150\n",
      "4/4 [==============================] - 51s 13s/step - loss: 0.8235 - dice_coef: 0.1765\n",
      "Epoch 19/150\n",
      "4/4 [==============================] - 51s 13s/step - loss: 0.8212 - dice_coef: 0.1788\n",
      "Epoch 20/150\n",
      "4/4 [==============================] - 52s 13s/step - loss: 0.8184 - dice_coef: 0.1816\n",
      "Epoch 21/150\n",
      "4/4 [==============================] - 53s 13s/step - loss: 0.8150 - dice_coef: 0.1850\n",
      "Epoch 22/150\n",
      "4/4 [==============================] - 54s 14s/step - loss: 0.8161 - dice_coef: 0.1839\n",
      "Epoch 23/150\n",
      "4/4 [==============================] - 52s 13s/step - loss: 0.8165 - dice_coef: 0.1835\n",
      "Epoch 24/150\n",
      "4/4 [==============================] - 52s 13s/step - loss: 0.8173 - dice_coef: 0.1827\n",
      "Epoch 25/150\n",
      "4/4 [==============================] - 51s 13s/step - loss: 0.8184 - dice_coef: 0.1816\n",
      "Epoch 26/150\n",
      "4/4 [==============================] - 51s 13s/step - loss: 0.8171 - dice_coef: 0.1829\n",
      "Epoch 27/150\n",
      "4/4 [==============================] - 52s 13s/step - loss: 0.8143 - dice_coef: 0.1857\n",
      "Epoch 28/150\n",
      "4/4 [==============================] - 51s 13s/step - loss: 0.8145 - dice_coef: 0.1855\n",
      "Epoch 29/150\n",
      "4/4 [==============================] - 52s 13s/step - loss: 0.8163 - dice_coef: 0.1837\n",
      "Epoch 30/150\n",
      "4/4 [==============================] - 52s 13s/step - loss: 0.8113 - dice_coef: 0.1887\n",
      "Epoch 31/150\n",
      "4/4 [==============================] - 51s 13s/step - loss: 0.8104 - dice_coef: 0.1896\n",
      "Epoch 32/150\n",
      "4/4 [==============================] - 52s 13s/step - loss: 0.8155 - dice_coef: 0.1845\n",
      "Epoch 33/150\n",
      "4/4 [==============================] - 51s 13s/step - loss: 0.8064 - dice_coef: 0.1936\n",
      "Epoch 34/150\n",
      "4/4 [==============================] - 51s 13s/step - loss: 0.8172 - dice_coef: 0.1828\n",
      "Epoch 35/150\n",
      "4/4 [==============================] - 52s 13s/step - loss: 0.8064 - dice_coef: 0.1936\n",
      "Epoch 36/150\n",
      "4/4 [==============================] - 52s 13s/step - loss: 0.8099 - dice_coef: 0.1901\n",
      "Epoch 37/150\n",
      "4/4 [==============================] - 52s 13s/step - loss: 0.8047 - dice_coef: 0.1953\n",
      "Epoch 38/150\n",
      "4/4 [==============================] - 51s 13s/step - loss: 0.8001 - dice_coef: 0.1999\n",
      "Epoch 39/150\n",
      "4/4 [==============================] - 51s 13s/step - loss: 0.8034 - dice_coef: 0.1966\n",
      "Epoch 40/150\n",
      "4/4 [==============================] - 51s 13s/step - loss: 0.8102 - dice_coef: 0.1898\n",
      "Epoch 41/150\n",
      "4/4 [==============================] - 52s 13s/step - loss: 0.8069 - dice_coef: 0.1931\n",
      "Epoch 42/150\n",
      "4/4 [==============================] - 53s 13s/step - loss: 0.8048 - dice_coef: 0.1952\n",
      "Epoch 43/150\n",
      "4/4 [==============================] - 52s 13s/step - loss: 0.8057 - dice_coef: 0.1943\n",
      "Epoch 44/150\n",
      "4/4 [==============================] - 53s 13s/step - loss: 0.8091 - dice_coef: 0.1909\n",
      "Epoch 45/150\n",
      "4/4 [==============================] - 51s 13s/step - loss: 0.7985 - dice_coef: 0.2015\n",
      "Epoch 46/150\n",
      "4/4 [==============================] - 56s 14s/step - loss: 0.7868 - dice_coef: 0.2132\n",
      "Epoch 47/150\n",
      "4/4 [==============================] - 58s 15s/step - loss: 0.7864 - dice_coef: 0.2136\n",
      "Epoch 48/150\n",
      "4/4 [==============================] - 52s 13s/step - loss: 0.7839 - dice_coef: 0.2161\n",
      "Epoch 49/150\n",
      "4/4 [==============================] - 51s 13s/step - loss: 0.7879 - dice_coef: 0.2121\n",
      "Epoch 50/150\n",
      "4/4 [==============================] - 52s 13s/step - loss: 0.7723 - dice_coef: 0.2277\n",
      "Epoch 51/150\n",
      "4/4 [==============================] - 67s 18s/step - loss: 0.7591 - dice_coef: 0.2409\n",
      "Epoch 52/150\n",
      "4/4 [==============================] - 58s 15s/step - loss: 0.7607 - dice_coef: 0.2393\n",
      "Epoch 53/150\n",
      "4/4 [==============================] - 60s 15s/step - loss: 0.7581 - dice_coef: 0.2419\n",
      "Epoch 54/150\n",
      "4/4 [==============================] - 64s 16s/step - loss: 0.7530 - dice_coef: 0.2470\n",
      "Epoch 55/150\n",
      "4/4 [==============================] - 57s 14s/step - loss: 0.7569 - dice_coef: 0.2431\n",
      "Epoch 56/150\n",
      "4/4 [==============================] - 53s 13s/step - loss: 0.7439 - dice_coef: 0.2561\n",
      "Epoch 57/150\n",
      "4/4 [==============================] - 54s 14s/step - loss: 0.7182 - dice_coef: 0.2818\n",
      "Epoch 58/150\n",
      "4/4 [==============================] - 64s 16s/step - loss: 0.7317 - dice_coef: 0.2683\n",
      "Epoch 59/150\n",
      "4/4 [==============================] - 60s 15s/step - loss: 0.7168 - dice_coef: 0.2832\n",
      "Epoch 60/150\n",
      "4/4 [==============================] - 58s 14s/step - loss: 0.7114 - dice_coef: 0.2886\n",
      "Epoch 61/150\n",
      "4/4 [==============================] - 64s 16s/step - loss: 0.7078 - dice_coef: 0.2922\n",
      "Epoch 62/150\n",
      "4/4 [==============================] - 61s 15s/step - loss: 0.6893 - dice_coef: 0.3107\n",
      "Epoch 63/150\n",
      "4/4 [==============================] - 61s 15s/step - loss: 0.7072 - dice_coef: 0.2928\n",
      "Epoch 64/150\n",
      "4/4 [==============================] - 57s 14s/step - loss: 0.7160 - dice_coef: 0.2840\n",
      "Epoch 65/150\n",
      "4/4 [==============================] - 62s 15s/step - loss: 0.6922 - dice_coef: 0.3078\n",
      "Epoch 66/150\n",
      "4/4 [==============================] - 56s 14s/step - loss: 0.6844 - dice_coef: 0.3156\n",
      "Epoch 67/150\n",
      "4/4 [==============================] - 56s 14s/step - loss: 0.6776 - dice_coef: 0.3224\n",
      "Epoch 68/150\n",
      "4/4 [==============================] - 57s 14s/step - loss: 0.6625 - dice_coef: 0.3375\n",
      "Epoch 69/150\n",
      "4/4 [==============================] - 56s 14s/step - loss: 0.6480 - dice_coef: 0.3520\n",
      "Epoch 70/150\n",
      "4/4 [==============================] - 58s 14s/step - loss: 0.6184 - dice_coef: 0.3816\n",
      "Epoch 71/150\n",
      "4/4 [==============================] - 55s 14s/step - loss: 0.6285 - dice_coef: 0.3715\n",
      "Epoch 72/150\n",
      "4/4 [==============================] - 57s 14s/step - loss: 0.6124 - dice_coef: 0.3876\n",
      "Epoch 73/150\n",
      "4/4 [==============================] - 57s 14s/step - loss: 0.6351 - dice_coef: 0.3649\n",
      "Epoch 74/150\n",
      "4/4 [==============================] - 55s 14s/step - loss: 0.6282 - dice_coef: 0.3718\n",
      "Epoch 75/150\n",
      "4/4 [==============================] - 56s 14s/step - loss: 0.6426 - dice_coef: 0.3574\n",
      "Epoch 76/150\n",
      "4/4 [==============================] - 58s 14s/step - loss: 0.6435 - dice_coef: 0.3565\n",
      "Epoch 77/150\n",
      "4/4 [==============================] - 54s 13s/step - loss: 0.6274 - dice_coef: 0.3726\n",
      "Epoch 78/150\n",
      "4/4 [==============================] - 56s 14s/step - loss: 0.6186 - dice_coef: 0.3814\n",
      "Epoch 79/150\n",
      "4/4 [==============================] - 57s 14s/step - loss: 0.5974 - dice_coef: 0.4026\n",
      "Epoch 80/150\n",
      "4/4 [==============================] - 57s 14s/step - loss: 0.5544 - dice_coef: 0.4456\n",
      "Epoch 81/150\n",
      "4/4 [==============================] - 57s 14s/step - loss: 0.5653 - dice_coef: 0.4347\n",
      "Epoch 82/150\n",
      "4/4 [==============================] - 58s 14s/step - loss: 0.5538 - dice_coef: 0.4462\n",
      "Epoch 83/150\n"
     ]
    },
    {
     "name": "stdout",
     "output_type": "stream",
     "text": [
      "4/4 [==============================] - 56s 14s/step - loss: 0.5618 - dice_coef: 0.4382\n",
      "Epoch 84/150\n",
      "4/4 [==============================] - 57s 14s/step - loss: 0.5550 - dice_coef: 0.4450\n",
      "Epoch 85/150\n",
      "4/4 [==============================] - 56s 14s/step - loss: 0.5789 - dice_coef: 0.4211\n",
      "Epoch 86/150\n",
      "4/4 [==============================] - 57s 14s/step - loss: 0.5754 - dice_coef: 0.4246\n",
      "Epoch 87/150\n",
      "4/4 [==============================] - 54s 13s/step - loss: 0.5237 - dice_coef: 0.4763\n",
      "Epoch 88/150\n",
      "4/4 [==============================] - 57s 14s/step - loss: 0.5121 - dice_coef: 0.4879\n",
      "Epoch 89/150\n",
      "4/4 [==============================] - 56s 14s/step - loss: 0.5120 - dice_coef: 0.4880\n",
      "Epoch 90/150\n",
      "4/4 [==============================] - 58s 14s/step - loss: 0.5271 - dice_coef: 0.4729\n",
      "Epoch 91/150\n",
      "4/4 [==============================] - 55s 14s/step - loss: 0.5003 - dice_coef: 0.4997\n",
      "Epoch 92/150\n",
      "4/4 [==============================] - 56s 14s/step - loss: 0.5171 - dice_coef: 0.4829\n",
      "Epoch 93/150\n",
      "4/4 [==============================] - 60s 15s/step - loss: 0.4791 - dice_coef: 0.5209\n",
      "Epoch 94/150\n",
      "4/4 [==============================] - 62s 16s/step - loss: 0.4587 - dice_coef: 0.5413\n",
      "Epoch 95/150\n",
      "4/4 [==============================] - 58s 14s/step - loss: 0.4781 - dice_coef: 0.5219\n",
      "Epoch 96/150\n",
      "4/4 [==============================] - 57s 14s/step - loss: 0.4749 - dice_coef: 0.5251\n",
      "Epoch 97/150\n",
      "4/4 [==============================] - 57s 14s/step - loss: 0.4626 - dice_coef: 0.5374\n",
      "Epoch 98/150\n",
      "4/4 [==============================] - 56s 14s/step - loss: 0.4758 - dice_coef: 0.5242\n",
      "Epoch 99/150\n",
      "4/4 [==============================] - 57s 14s/step - loss: 0.4874 - dice_coef: 0.5126\n",
      "Epoch 100/150\n",
      "4/4 [==============================] - 58s 15s/step - loss: 0.4577 - dice_coef: 0.5423\n",
      "Epoch 101/150\n",
      "4/4 [==============================] - 57s 14s/step - loss: 0.4208 - dice_coef: 0.5792\n",
      "Epoch 102/150\n",
      "4/4 [==============================] - 56s 14s/step - loss: 0.3971 - dice_coef: 0.6029\n",
      "Epoch 103/150\n",
      "4/4 [==============================] - 57s 14s/step - loss: 0.3959 - dice_coef: 0.6041\n",
      "Epoch 104/150\n",
      "4/4 [==============================] - 56s 14s/step - loss: 0.3682 - dice_coef: 0.6318\n",
      "Epoch 105/150\n",
      "4/4 [==============================] - 56s 14s/step - loss: 0.3545 - dice_coef: 0.6455\n",
      "Epoch 106/150\n",
      "4/4 [==============================] - 57s 14s/step - loss: 0.3386 - dice_coef: 0.6614\n",
      "Epoch 107/150\n",
      "4/4 [==============================] - 56s 14s/step - loss: 0.3258 - dice_coef: 0.6742\n",
      "Epoch 108/150\n",
      "4/4 [==============================] - 58s 14s/step - loss: 0.3476 - dice_coef: 0.6524\n",
      "Epoch 109/150\n",
      "4/4 [==============================] - 57s 14s/step - loss: 0.3478 - dice_coef: 0.6522\n",
      "Epoch 110/150\n",
      "4/4 [==============================] - 58s 15s/step - loss: 0.3227 - dice_coef: 0.6773\n",
      "Epoch 111/150\n",
      "4/4 [==============================] - 57s 14s/step - loss: 0.2705 - dice_coef: 0.7295\n",
      "Epoch 112/150\n",
      "4/4 [==============================] - 57s 14s/step - loss: 0.2736 - dice_coef: 0.7264\n",
      "Epoch 113/150\n",
      "4/4 [==============================] - 55s 14s/step - loss: 0.2748 - dice_coef: 0.7252\n",
      "Epoch 114/150\n",
      "4/4 [==============================] - 57s 14s/step - loss: 0.2944 - dice_coef: 0.7056\n",
      "Epoch 115/150\n",
      "4/4 [==============================] - 58s 14s/step - loss: 0.2615 - dice_coef: 0.7385\n",
      "Epoch 116/150\n",
      "4/4 [==============================] - 57s 14s/step - loss: 0.3099 - dice_coef: 0.6901\n",
      "Epoch 117/150\n",
      "4/4 [==============================] - 59s 15s/step - loss: 0.2697 - dice_coef: 0.7303\n",
      "Epoch 118/150\n",
      "4/4 [==============================] - 63s 16s/step - loss: 0.2415 - dice_coef: 0.7585\n",
      "Epoch 119/150\n",
      "4/4 [==============================] - 61s 15s/step - loss: 0.2405 - dice_coef: 0.7595\n",
      "Epoch 120/150\n",
      "4/4 [==============================] - 60s 15s/step - loss: 0.2186 - dice_coef: 0.7814\n",
      "Epoch 121/150\n",
      "4/4 [==============================] - 54s 13s/step - loss: 0.2203 - dice_coef: 0.7797\n",
      "Epoch 122/150\n",
      "4/4 [==============================] - 51s 13s/step - loss: 0.2227 - dice_coef: 0.7773\n",
      "Epoch 123/150\n",
      "4/4 [==============================] - 51s 13s/step - loss: 0.1836 - dice_coef: 0.8164\n",
      "Epoch 124/150\n",
      "4/4 [==============================] - 51s 13s/step - loss: 0.1971 - dice_coef: 0.8029\n",
      "Epoch 125/150\n",
      "4/4 [==============================] - 53s 13s/step - loss: 0.1934 - dice_coef: 0.8066\n",
      "Epoch 126/150\n",
      "4/4 [==============================] - 51s 13s/step - loss: 0.2045 - dice_coef: 0.7955\n",
      "Epoch 127/150\n",
      "4/4 [==============================] - 51s 13s/step - loss: 0.1878 - dice_coef: 0.8122\n",
      "Epoch 128/150\n",
      "4/4 [==============================] - 50s 13s/step - loss: 0.1998 - dice_coef: 0.8002\n",
      "Epoch 129/150\n",
      "4/4 [==============================] - 51s 13s/step - loss: 0.1774 - dice_coef: 0.8226\n",
      "Epoch 130/150\n",
      "4/4 [==============================] - 51s 13s/step - loss: 0.2044 - dice_coef: 0.7956\n",
      "Epoch 131/150\n",
      "4/4 [==============================] - 51s 13s/step - loss: 0.1717 - dice_coef: 0.8283\n",
      "Epoch 132/150\n",
      "4/4 [==============================] - 50s 13s/step - loss: 0.1823 - dice_coef: 0.8177\n",
      "Epoch 133/150\n",
      "4/4 [==============================] - 51s 13s/step - loss: 0.1942 - dice_coef: 0.8058\n",
      "Epoch 134/150\n",
      "4/4 [==============================] - 51s 13s/step - loss: 0.2470 - dice_coef: 0.7530\n",
      "Epoch 135/150\n",
      "4/4 [==============================] - 51s 13s/step - loss: 0.1912 - dice_coef: 0.8088\n",
      "Epoch 136/150\n",
      "4/4 [==============================] - 51s 13s/step - loss: 0.2012 - dice_coef: 0.7988\n",
      "Epoch 137/150\n",
      "4/4 [==============================] - 59s 15s/step - loss: 0.2032 - dice_coef: 0.7968\n",
      "Epoch 138/150\n",
      "4/4 [==============================] - 55s 14s/step - loss: 0.1640 - dice_coef: 0.8360\n",
      "Epoch 139/150\n",
      "4/4 [==============================] - 51s 13s/step - loss: 0.1902 - dice_coef: 0.8098\n",
      "Epoch 140/150\n",
      "4/4 [==============================] - 50s 13s/step - loss: 0.1932 - dice_coef: 0.8068\n",
      "Epoch 141/150\n",
      "4/4 [==============================] - 51s 13s/step - loss: 0.2027 - dice_coef: 0.7973\n",
      "Epoch 142/150\n",
      "4/4 [==============================] - 52s 13s/step - loss: 0.2022 - dice_coef: 0.7978\n",
      "Epoch 143/150\n",
      "4/4 [==============================] - 51s 13s/step - loss: 0.1677 - dice_coef: 0.8323\n",
      "Epoch 144/150\n",
      "4/4 [==============================] - 51s 13s/step - loss: 0.1868 - dice_coef: 0.8132\n",
      "Epoch 145/150\n",
      "4/4 [==============================] - 58s 15s/step - loss: 0.1804 - dice_coef: 0.8196\n",
      "Epoch 146/150\n",
      "4/4 [==============================] - 58s 14s/step - loss: 0.1936 - dice_coef: 0.8064\n",
      "Epoch 147/150\n",
      "4/4 [==============================] - 51s 13s/step - loss: 0.1896 - dice_coef: 0.8104\n",
      "Epoch 148/150\n",
      "4/4 [==============================] - 51s 13s/step - loss: 0.1698 - dice_coef: 0.8302\n",
      "Epoch 149/150\n",
      "4/4 [==============================] - 50s 13s/step - loss: 0.1928 - dice_coef: 0.8072\n",
      "Epoch 150/150\n",
      "4/4 [==============================] - 51s 13s/step - loss: 0.1627 - dice_coef: 0.8373\n"
     ]
    },
    {
     "data": {
      "text/plain": [
       "<tensorflow.python.keras.callbacks.History at 0x2bc8a8c3a30>"
      ]
     },
     "execution_count": 11,
     "metadata": {},
     "output_type": "execute_result"
    }
   ],
   "source": [
    "model.fit(generate_dataset(batch_size=20), steps_per_epoch=4, epochs=150)"
   ]
  },
  {
   "cell_type": "code",
   "execution_count": 12,
   "metadata": {},
   "outputs": [
    {
     "name": "stdout",
     "output_type": "stream",
     "text": [
      "INFO:tensorflow:Assets written to: unet_model\\assets\n"
     ]
    }
   ],
   "source": [
    "model.save('unet_model')"
   ]
  },
  {
   "cell_type": "code",
   "execution_count": 45,
   "metadata": {},
   "outputs": [],
   "source": [
    "test_image, test_gt_image = next(generate_dataset(1))\n",
    "predict_gt = model.predict(test_image)"
   ]
  },
  {
   "cell_type": "code",
   "execution_count": 46,
   "metadata": {},
   "outputs": [
    {
     "name": "stdout",
     "output_type": "stream",
     "text": [
      "1/1 [==============================] - 0s 170ms/step - loss: 0.0663 - dice_coef: 0.9337\n"
     ]
    },
    {
     "data": {
      "text/plain": [
       "[0.0662999153137207, 0.9337000846862793]"
      ]
     },
     "execution_count": 46,
     "metadata": {},
     "output_type": "execute_result"
    }
   ],
   "source": [
    "model.evaluate(test_image, test_gt_image)"
   ]
  },
  {
   "cell_type": "code",
   "execution_count": 47,
   "metadata": {},
   "outputs": [
    {
     "data": {
      "image/png": "[encoded data removed]",
      "text/plain": [
       "<Figure size 720x720 with 1 Axes>"
      ]
     },
     "metadata": {
      "needs_background": "light"
     },
     "output_type": "display_data"
    }
   ],
   "source": [
    "print_image(test_image[0, :, :])"
   ]
  },
  {
   "cell_type": "code",
   "execution_count": 48,
   "metadata": {},
   "outputs": [
    {
     "data": {
      "image/png": "[encoded data removed]",
      "text/plain": [
       "<Figure size 720x720 with 1 Axes>"
      ]
     },
     "metadata": {
      "needs_background": "light"
     },
     "output_type": "display_data"
    }
   ],
   "source": [
    "print_image(predict_gt[0, :, :, 0])"
   ]
  },
  {
   "cell_type": "code",
   "execution_count": 49,
   "metadata": {},
   "outputs": [
    {
     "data": {
      "image/png": "[encoded data removed]",
      "text/plain": [
       "<Figure size 720x720 with 1 Axes>"
      ]
     },
     "metadata": {
      "needs_background": "light"
     },
     "output_type": "display_data"
    }
   ],
   "source": [
    "print_image(predict_gt[0, :, :, 1])"
   ]
  },
  {
   "cell_type": "code",
   "execution_count": 51,
   "metadata": {},
   "outputs": [
    {
     "data": {
      "image/png": "[encoded data removed]",
      "text/plain": [
       "<Figure size 720x720 with 1 Axes>"
      ]
     },
     "metadata": {
      "needs_background": "light"
     },
     "output_type": "display_data"
    }
   ],
   "source": [
    "print_image(predict_gt[0, :, :, 8])"
   ]
  }
 ],
 "metadata": {
  "kernelspec": {
   "display_name": "Python 3",
   "language": "python",
   "name": "python3"
  },
  "language_info": {
   "codemirror_mode": {
    "name": "ipython",
    "version": 3
   },
   "file_extension": ".py",
   "mimetype": "text/x-python",
   "name": "python",
   "nbconvert_exporter": "python",
   "pygments_lexer": "ipython3",
   "version": "3.8.5"
  }
 },
 "nbformat": 4,
 "nbformat_minor": 4
}
